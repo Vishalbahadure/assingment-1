{
 "cells": [
  {
   "cell_type": "code",
   "execution_count": null,
   "id": "d4e3a819-0316-47d1-9ac9-3eee44fd66dd",
   "metadata": {},
   "outputs": [],
   "source": [
    "Q1. Explain with an example each when to use a for loop and a while loop.\n",
    "  i) For loop is used to iterate over elements of a sequence. It is often used when you have a piece of code which you want to repeat “n” number of time.\n",
    "    n Python, “for loops” are called iterators.\n",
    "Just like while loop, “For Loop” is also used to repeat the program.\n",
    "But unlike while loop which depends on condition true or false. “For Loop” depends on the elements it has to iterate.\n",
    "example.x=0 \n",
    "for x in range(2,7):\n",
    "\t\tprint(x)\n",
    "ii)While loop:\n",
    "    While Loop is used to repeat a block of code. Instead of running the code block once, It executes the code block multiple times until a \n",
    "    certain condition is met.\n",
    "    While loop does the exactly same thing what “if statement” does, but instead of running the code block once, they jump back to the point where i\n",
    "    t began the code and repeats the whole process agian\n",
    "    example:x=0\n",
    "   while(x <4):\n",
    "\t\tprint(x)\n",
    "\t\tx = x+1"
   ]
  },
  {
   "cell_type": "code",
   "execution_count": null,
   "id": "a5502282-a27b-4cd8-811d-b755d5166bef",
   "metadata": {},
   "outputs": [],
   "source": [
    "Q2. Write a python program to print the sum and product of the first 10 natural numbers using for\n",
    "and while loop.\n",
    "input = 1\n",
    "while input <= 10:\n",
    "\tprint(input)\n",
    "\tinput += 1\n",
    "ii)for loop\n",
    " sum = 0 \n",
    "for i in range(1, 11): \n",
    "  sum += i \n",
    "print(sum) \n",
    "\n",
    "   "
   ]
  },
  {
   "cell_type": "code",
   "execution_count": null,
   "id": "27542e70-0638-4827-9ce2-da42da3ed85c",
   "metadata": {},
   "outputs": [],
   "source": [
    "/*Q4. Create a list of numbers from 1 to 100. Use for loop and while loop to calculate the cube of each\n",
    "number and if the cube of that number is divisible by 4 or 5 then append that number in a list and print\n",
    "that list.\n",
    "The per-unit charges in rupees are as follows: For the first 100 units, the user will be charged Rs. 4.5 per\n",
    "unit, for the next 100 units, the user will be charged Rs. 6 per unit, and for the next 100 units, the user will\n",
    "be charged Rs. 10 per unit, After 300 units and above the user will be charged Rs. 20 per unit.*/\n",
    "units=int(input(\"please enter the number of units you consumed in a month\"))\n",
    "if(units<=100):\n",
    "    payAmount=units*4.5\n",
    "    fixedcharge=25.00\n",
    "elif(units<=100):\n",
    "    payAmount=(100*1.5)+(units-100)*2.5\n",
    "    fixedcharge=50.00\n",
    "elif(units<=300):\n",
    "    payAmount=(100*1.5)+(200-100)*2.5+(units-200)*4\n",
    "    fixedcharge=75.00\n",
    "elif(units<=350):\n",
    "    payAmount=(100*1.5)+(200-100)*2.5+(300-200)*4+(units-300)*5\n",
    "    fixedcharge=100.00\n",
    "else:\n",
    "    payAmount=0\n",
    "    fixedcharge=1500.00\n",
    "\n",
    "Total=payAmount+fixedcharge;\n",
    "print(\"\\nElecticity bill=%.2f\" %Total)"
   ]
  },
  {
   "cell_type": "code",
   "execution_count": 8,
   "id": "befe29e6-cbed-4e60-aec5-25f47598654d",
   "metadata": {},
   "outputs": [
    {
     "name": "stdout",
     "output_type": "stream",
     "text": [
      "[3, 5, 6, 9, 10, 12, 15, 18, 20, 21, 24, 25, 27, 30, 33, 35, 36, 39, 40, 42, 45, 48, 50, 51, 54, 55, 57, 60, 63, 65, 66, 69, 70, 72, 75, 78, 80, 81, 84, 85, 87, 90, 93, 95, 96, 99, 100]\n"
     ]
    }
   ],
   "source": [
    "Q4. Create a list of numbers from 1 to 100. Use for loop and while loop to calculate the cube of each\n",
    "number and if the cube of that number is divisible by 4 or 5 then append that number in a list and print\n",
    "that list\n",
    "a = range(1,101)\n",
    "\n",
    "mylist = [num for num in a if num%3==0 or num%5==0]\n",
    "\n",
    "\n",
    "print(mylist)"
   ]
  },
  {
   "cell_type": "code",
   "execution_count": 5,
   "id": "fa44fe03-33f9-40b5-8f30-2e6659f1c880",
   "metadata": {},
   "outputs": [
    {
     "name": "stdout",
     "output_type": "stream",
     "text": [
      "No. of vowels : 7\n"
     ]
    }
   ],
   "source": [
    "Q5, Write a program to filter count vowels in the below-given string.\n",
    "string = \"I want to become a data scientist\"\n",
    "\n",
    "def vowel_count(str):\n",
    "\tcount = 0\n",
    "\tvowel = set(\"I want to become a data scientist\")\n",
    "\tfor alphabet in str:\n",
    "\t\tif alphabet in vowel:\n",
    "\t\t\tcount = count + 1\n",
    "\tprint(\"No. of vowels :\", count)\n",
    "str = \"GeeksforGeeks\"\n",
    "vowel_count(str)\n"
   ]
  },
  {
   "cell_type": "code",
   "execution_count": null,
   "id": "e5ee9aad-87ce-4841-8d28-8336bced1a9d",
   "metadata": {},
   "outputs": [],
   "source": []
  }
 ],
 "metadata": {
  "kernelspec": {
   "display_name": "Python 3 (ipykernel)",
   "language": "python",
   "name": "python3"
  },
  "language_info": {
   "codemirror_mode": {
    "name": "ipython",
    "version": 3
   },
   "file_extension": ".py",
   "mimetype": "text/x-python",
   "name": "python",
   "nbconvert_exporter": "python",
   "pygments_lexer": "ipython3",
   "version": "3.10.8"
  }
 },
 "nbformat": 4,
 "nbformat_minor": 5
}
